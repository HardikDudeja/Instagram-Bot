{
 "cells": [
  {
   "cell_type": "code",
   "execution_count": 1,
   "metadata": {},
   "outputs": [],
   "source": [
    "from selenium import webdriver\n",
    "import time\n",
    "import matplotlib.pyplot as plt\n",
    "import numpy as np\n",
    "from selenium.webdriver.common.by import By \n",
    "from selenium.webdriver.support.ui import WebDriverWait \n",
    "from selenium.webdriver.support import expected_conditions as EC\n",
    "driver = webdriver.Chrome(executable_path='/Users/hardikdudeja/Downloads/chromedriver')"
   ]
  },
  {
   "cell_type": "code",
   "execution_count": 2,
   "metadata": {},
   "outputs": [],
   "source": [
    "def login(username, password):\n",
    "    driver.get('https://www.instagram.com/')\n",
    "    # waiting till the element appears\n",
    "    btn_login = WebDriverWait(driver, 10).until( \n",
    "            EC.presence_of_element_located((By.XPATH, '/html/body//article/div[2]/div/div/form/div/div[3]')) \n",
    "        )\n",
    "    nameField = driver.find_element_by_name('username')\n",
    "    passwordField = driver.find_element_by_name('password')\n",
    "    nameField.send_keys(username)\n",
    "    passwordField.send_keys(password)     \n",
    "    btn_login.click()\n"
   ]
  },
  {
   "cell_type": "code",
   "execution_count": 3,
   "metadata": {},
   "outputs": [],
   "source": [
    "def loginProcess():\n",
    "    try:\n",
    "        btn_notNow = driver.find_element_by_xpath('//button[contains(@class, \"yWX7d\")]')\n",
    "        btn_notNow.click()\n",
    "    except:\n",
    "        pass\n",
    "    time.sleep(3)\n",
    "    try:\n",
    "        btn_no = driver.find_element_by_xpath('//button[contains(@class, \"HoLwm\")]')\n",
    "        btn_no.click()\n",
    "    except:\n",
    "        pass"
   ]
  },
  {
   "cell_type": "code",
   "execution_count": 5,
   "metadata": {},
   "outputs": [],
   "source": [
    "#Login process\n",
    "login('dudejaahardik', '21@Hardik39')\n",
    "time.sleep(3)\n",
    "loginProcess()"
   ]
  },
  {
   "cell_type": "code",
   "execution_count": 4,
   "metadata": {},
   "outputs": [],
   "source": [
    "def search(string):\n",
    "    searchBox = driver.find_element_by_xpath('//input[contains(@class, \"XTCLo\")]')\n",
    "    searchBox.clear()\n",
    "    searchBox.send_keys(string)\n",
    "    #using explicit wait\n",
    "    results = WebDriverWait(driver, 10).until( \n",
    "                EC.presence_of_all_elements_located((By.XPATH, '//div[contains(@class, \"fuqBx\")]//a')) \n",
    "            )\n",
    "    li_names = []\n",
    "    for ele in results:\n",
    "        ele = ele.get_attribute('href')\n",
    "        ele = ele.split('/')\n",
    "        if(len(ele) == 5):\n",
    "            if(ele[-2] == 'food'):\n",
    "                continue\n",
    "            li_names.append(ele[-2])\n",
    "    return li_names\n"
   ]
  },
  {
   "cell_type": "code",
   "execution_count": 6,
   "metadata": {},
   "outputs": [
    {
     "name": "stdout",
     "output_type": "stream",
     "text": [
      "yourfoodlab\n",
      "sailusfood\n",
      "dilsefoodie\n",
      "foodys\n",
      "delhifoodwalks\n",
      "foodie_incarnate\n",
      "foodbeast\n",
      "tasty.foodrecipes\n",
      "foodnetwork\n",
      "gurgaonfoodblog\n"
     ]
    }
   ],
   "source": [
    "# these are the top 10 profiles result\n",
    "li_profiles = search('food')\n",
    "li_profiles = li_profiles[:10]\n",
    "for ele in li_profiles:\n",
    "    print(ele)"
   ]
  },
  {
   "cell_type": "code",
   "execution_count": 7,
   "metadata": {},
   "outputs": [],
   "source": [
    "#this function opens the profile with the given username\n",
    "def searchAndOpenProfile(string):\n",
    "    searchBox = driver.find_element_by_xpath('//input[contains(@class, \"XTCLo\")]')\n",
    "    searchBox.clear()\n",
    "    searchBox.send_keys(string)\n",
    "    time.sleep(1)\n",
    "    result = WebDriverWait(driver, 10).until( \n",
    "                EC.presence_of_element_located((By.XPATH, '//div[contains(@class, \"fuqBx\")]/div/a')) \n",
    "            )\n",
    "    result.click()\n",
    "    "
   ]
  },
  {
   "cell_type": "code",
   "execution_count": 8,
   "metadata": {},
   "outputs": [],
   "source": [
    "#works only if a profile is opened\n",
    "def getNumFollowers():\n",
    "    try:\n",
    "        followerText = WebDriverWait(driver, 10).until(\n",
    "            EC.presence_of_all_elements_located((By.XPATH, '//span[contains(@class, \"g47SY\")]'))\n",
    "            )\n",
    "        followers = followerText[1].get_attribute('title')\n",
    "        return followers\n",
    "    except:\n",
    "        pass"
   ]
  },
  {
   "cell_type": "code",
   "execution_count": 9,
   "metadata": {},
   "outputs": [],
   "source": [
    "#only when profile is open\n",
    "def openFirstPost():\n",
    "    try:\n",
    "        firstPost = WebDriverWait(driver, 10).until(\n",
    "            EC.presence_of_element_located((By.CLASS_NAME, 'eLAPa'))\n",
    "            )\n",
    "        firstPost.click()\n",
    "    except:\n",
    "        pass"
   ]
  },
  {
   "cell_type": "code",
   "execution_count": 10,
   "metadata": {},
   "outputs": [],
   "source": [
    "def nextPost():\n",
    "    btn_next = driver.find_element_by_xpath('//div[contains(@class, \"DdSX2\")]/a[last()]')\n",
    "    btn_next.click()\n",
    "    time.sleep(1)"
   ]
  },
  {
   "cell_type": "code",
   "execution_count": 11,
   "metadata": {},
   "outputs": [],
   "source": [
    "def getProfileWithTopFollowers(li_profiles):\n",
    "    dict_followers = {}\n",
    "    for ele in li_profiles:\n",
    "        searchAndOpenProfile(ele)\n",
    "        time.sleep(2)\n",
    "        numFollowers = getNumFollowers()\n",
    "        numFollowers = numFollowers.replace(',', '')\n",
    "        dict_followers[ele] = int(numFollowers)\n",
    "        time.sleep(1)\n",
    "    li_ans = [(k,v) for k, v in sorted(dict_followers.items(), key=lambda item: item[1])]\n",
    "    li_ans = li_ans[::-1]\n",
    "    li_ans = li_ans[0:5]\n",
    "    return li_ans\n",
    "    "
   ]
  },
  {
   "cell_type": "code",
   "execution_count": 12,
   "metadata": {},
   "outputs": [
    {
     "name": "stdout",
     "output_type": "stream",
     "text": [
      "('foodnetwork', 11166520)\n",
      "('foodys', 8761956)\n",
      "('yourfoodlab', 1617711)\n",
      "('foodbeast', 1439801)\n",
      "('dilsefoodie', 747591)\n"
     ]
    }
   ],
   "source": [
    "li_topFollowers = getProfileWithTopFollowers(li_profiles)\n",
    "for ele in li_topFollowers:\n",
    "    print(ele)"
   ]
  },
  {
   "cell_type": "code",
   "execution_count": 13,
   "metadata": {},
   "outputs": [],
   "source": [
    "# this works only when a post is opened\n",
    "def getDateOfPost():\n",
    "    # wait how much it is required\n",
    "    date = WebDriverWait(driver, 10).until(\n",
    "        EC.presence_of_element_located((By.XPATH, '//time[contains(@class, \"_1o9PC Nzb55\")]'))\n",
    "    )\n",
    "    date = date.get_attribute('datetime')\n",
    "    date = date.split('T')\n",
    "    date = date[0]\n",
    "    date = date.split('-')\n",
    "    date = int(date[-1])\n",
    "    return date\n",
    "    "
   ]
  },
  {
   "cell_type": "code",
   "execution_count": 14,
   "metadata": {},
   "outputs": [],
   "source": [
    "from datetime import date\n",
    "def getNumPosts(li):\n",
    "    today = str(date.today())\n",
    "    today = today.split('-')\n",
    "    today = int(today[-1])\n",
    "    \n",
    "    nameCount = []\n",
    "    \n",
    "    for ele in li:\n",
    "        count = 0\n",
    "        \n",
    "        # page has been opened\n",
    "        searchAndOpenProfile(ele[0])\n",
    "        time.sleep(1)\n",
    "        openFirstPost()\n",
    "        dateOfPost = getDateOfPost()\n",
    "        while today - dateOfPost <= 3:\n",
    "            count = count + 1\n",
    "            nextPost()\n",
    "            dateOfPost = getDateOfPost()\n",
    "        btnClose = driver.find_elements_by_xpath('//button[contains(@class, \"wpO6b\")]')[-1]\n",
    "        btnClose.click()\n",
    "        nameCount.append((ele[0], count))\n",
    "        time.sleep(2)\n",
    "    return nameCount"
   ]
  },
  {
   "cell_type": "code",
   "execution_count": 15,
   "metadata": {},
   "outputs": [
    {
     "name": "stdout",
     "output_type": "stream",
     "text": [
      "('foodnetwork', 27)\n",
      "('foodys', 7)\n",
      "('yourfoodlab', 3)\n",
      "('foodbeast', 8)\n",
      "('dilsefoodie', 2)\n"
     ]
    }
   ],
   "source": [
    "nameCount = getNumPosts(li_topFollowers)\n",
    "for ele in nameCount:\n",
    "    print(ele)"
   ]
  },
  {
   "cell_type": "code",
   "execution_count": 17,
   "metadata": {},
   "outputs": [
    {
     "data": {
      "image/png": "[encoded data removed]",
      "text/plain": [
       "<Figure size 432x288 with 1 Axes>"
      ]
     },
     "metadata": {
      "needs_background": "light"
     },
     "output_type": "display_data"
    }
   ],
   "source": [
    "# making bar graph\n",
    "li_names = [ele[0] for ele in nameCount]\n",
    "li_count = [ele[1] for ele in nameCount]\n",
    "plt.bar(li_names, li_count)\n",
    "plt.xlabel('Username')\n",
    "plt.ylabel('Number of posts in past 3 days')\n",
    "plt.show()"
   ]
  },
  {
   "cell_type": "code",
   "execution_count": 18,
   "metadata": {},
   "outputs": [],
   "source": [
    "def getHashTags(li_usernames):\n",
    "    d_words = {}\n",
    "    for ele in li_usernames:\n",
    "        searchAndOpenProfile(ele[0])\n",
    "        time.sleep(2)\n",
    "        openFirstPost()\n",
    "\n",
    "        #find hashtags\n",
    "        i = 0\n",
    "        while i < 10:\n",
    "            try:\n",
    "                li_allTags = WebDriverWait(driver, 5).until(\n",
    "                    EC.presence_of_all_elements_located((By.XPATH, '//a[contains(@class, \" xil3i\")]'))\n",
    "                    )\n",
    "                for ele in li_allTags:\n",
    "                    text = ele.text\n",
    "                    d_words[text] = d_words.get(text,0) + 1\n",
    "            except:\n",
    "                pass\n",
    "            nextPost()\n",
    "            i = i+1\n",
    "        btnExit = driver.find_elements_by_xpath('//button[contains(@class, \"wpO6b\")]')[-1]\n",
    "        btnExit.click()\n",
    "    return d_words\n",
    "    "
   ]
  },
  {
   "cell_type": "code",
   "execution_count": 19,
   "metadata": {},
   "outputs": [
    {
     "data": {
      "text/plain": [
       "{'#discoveryplus': 3,\n",
       " '#Chopped': 1,\n",
       " '#EasterBasketChallenge': 3,\n",
       " '#GuysRanchKitchen': 1,\n",
       " '#TheKitchen': 1,\n",
       " '#SpringBakingChampionship': 1,\n",
       " '#BarefootContessa': 1,\n",
       " '#beautifulmistake': 2,\n",
       " '#music': 2,\n",
       " '#DigSwirlSpread': 1,\n",
       " '#EpigamiaGheeSpread': 1,\n",
       " '#thandai': 2,\n",
       " '#thandairecipe': 2,\n",
       " '#holifestival': 2,\n",
       " '#holi': 2,\n",
       " '#holicelebration': 2,\n",
       " '#chocolate': 2,\n",
       " '#mango': 2,\n",
       " '#mangoseason': 2,\n",
       " '#summerseason': 2,\n",
       " '#sanjyotkeer': 6,\n",
       " '#yourfoodlab': 6,\n",
       " '#foodporn': 4,\n",
       " '#recipeoftheday': 5,\n",
       " '#recipevideo': 4,\n",
       " '#gheeroast': 2,\n",
       " '#foodphotography': 4,\n",
       " '#foodstagram': 4,\n",
       " '#streetfood': 2,\n",
       " '#foodlover': 2,\n",
       " '#foodpics': 2,\n",
       " '#streetfoodlover': 2,\n",
       " '#indiancuisine': 2,\n",
       " '#foodstylist': 2,\n",
       " '#foodiesofinstagram': 2,\n",
       " '#egg': 2,\n",
       " '#eggcurry': 2,\n",
       " '#eggs': 2,\n",
       " '#egglover': 2,\n",
       " '#goanrecipes': 2,\n",
       " '#goanfood': 2,\n",
       " '#recipe': 2,\n",
       " '#burger': 2,\n",
       " '#burgerlove': 2,\n",
       " '#burgertime': 2,\n",
       " '#burgerlover': 2,\n",
       " '#vegburger': 2,\n",
       " '#vegrecipesofindia': 2,\n",
       " '#vegetarian': 2,\n",
       " '#rajma': 2,\n",
       " '#burgers': 2,\n",
       " '#YFLQuickies': 1,\n",
       " '#reelitfeelit': 1,\n",
       " '#reelsinstagram': 1,\n",
       " '#reelsvideo': 1,\n",
       " '#recipereels': 1,\n",
       " '#foodbeast': 10,\n",
       " '#Foodbeast': 3,\n",
       " '#Recipe': 1,\n",
       " '#Miami': 1,\n",
       " '#Anaheim': 1,\n",
       " '#CA': 1,\n",
       " '#NYC': 1,\n",
       " '#dilsefoodie': 9,\n",
       " '#SwiggyGenie': 1,\n",
       " '#macroni': 1,\n",
       " '#pasta': 1,\n",
       " '#latenightcravings': 1,\n",
       " '#TheRealDeal': 1,\n",
       " '#mcdonalds': 1,\n",
       " '#realdeal': 1,\n",
       " '#mcdonaldsapp': 1,\n",
       " '#KwalityWalls': 1,\n",
       " '#KwalityWallsTrixy': 1,\n",
       " '#halwa': 1,\n",
       " '#parantha': 1,\n",
       " '#foodiechefcafeteria': 1}"
      ]
     },
     "execution_count": 19,
     "metadata": {},
     "output_type": "execute_result"
    }
   ],
   "source": [
    "d_words = getHashTags(li_topFollowers)\n",
    "d_words"
   ]
  },
  {
   "cell_type": "code",
   "execution_count": null,
   "metadata": {},
   "outputs": [],
   "source": []
  },
  {
   "cell_type": "code",
   "execution_count": 24,
   "metadata": {},
   "outputs": [
    {
     "data": {
      "text/html": [
       "<div>\n",
       "<style scoped>\n",
       "    .dataframe tbody tr th:only-of-type {\n",
       "        vertical-align: middle;\n",
       "    }\n",
       "\n",
       "    .dataframe tbody tr th {\n",
       "        vertical-align: top;\n",
       "    }\n",
       "\n",
       "    .dataframe thead th {\n",
       "        text-align: right;\n",
       "    }\n",
       "</style>\n",
       "<table border=\"1\" class=\"dataframe\">\n",
       "  <thead>\n",
       "    <tr style=\"text-align: right;\">\n",
       "      <th></th>\n",
       "      <th>Words</th>\n",
       "      <th>Frequency</th>\n",
       "    </tr>\n",
       "  </thead>\n",
       "  <tbody>\n",
       "    <tr>\n",
       "      <th>0</th>\n",
       "      <td>#foodbeast</td>\n",
       "      <td>10</td>\n",
       "    </tr>\n",
       "    <tr>\n",
       "      <th>1</th>\n",
       "      <td>#dilsefoodie</td>\n",
       "      <td>9</td>\n",
       "    </tr>\n",
       "    <tr>\n",
       "      <th>2</th>\n",
       "      <td>#sanjyotkeer</td>\n",
       "      <td>6</td>\n",
       "    </tr>\n",
       "    <tr>\n",
       "      <th>3</th>\n",
       "      <td>#yourfoodlab</td>\n",
       "      <td>6</td>\n",
       "    </tr>\n",
       "    <tr>\n",
       "      <th>4</th>\n",
       "      <td>#recipeoftheday</td>\n",
       "      <td>5</td>\n",
       "    </tr>\n",
       "    <tr>\n",
       "      <th>...</th>\n",
       "      <td>...</td>\n",
       "      <td>...</td>\n",
       "    </tr>\n",
       "    <tr>\n",
       "      <th>72</th>\n",
       "      <td>#BarefootContessa</td>\n",
       "      <td>1</td>\n",
       "    </tr>\n",
       "    <tr>\n",
       "      <th>73</th>\n",
       "      <td>#DigSwirlSpread</td>\n",
       "      <td>1</td>\n",
       "    </tr>\n",
       "    <tr>\n",
       "      <th>74</th>\n",
       "      <td>#EpigamiaGheeSpread</td>\n",
       "      <td>1</td>\n",
       "    </tr>\n",
       "    <tr>\n",
       "      <th>75</th>\n",
       "      <td>#Chopped</td>\n",
       "      <td>1</td>\n",
       "    </tr>\n",
       "    <tr>\n",
       "      <th>76</th>\n",
       "      <td>#foodiechefcafeteria</td>\n",
       "      <td>1</td>\n",
       "    </tr>\n",
       "  </tbody>\n",
       "</table>\n",
       "<p>77 rows × 2 columns</p>\n",
       "</div>"
      ],
      "text/plain": [
       "                   Words  Frequency\n",
       "0             #foodbeast         10\n",
       "1           #dilsefoodie          9\n",
       "2           #sanjyotkeer          6\n",
       "3           #yourfoodlab          6\n",
       "4        #recipeoftheday          5\n",
       "..                   ...        ...\n",
       "72     #BarefootContessa          1\n",
       "73       #DigSwirlSpread          1\n",
       "74   #EpigamiaGheeSpread          1\n",
       "75              #Chopped          1\n",
       "76  #foodiechefcafeteria          1\n",
       "\n",
       "[77 rows x 2 columns]"
      ]
     },
     "execution_count": 24,
     "metadata": {},
     "output_type": "execute_result"
    }
   ],
   "source": [
    "#Create dataframe\n",
    "import pandas as pd\n",
    "df = pd.DataFrame(d_words.items(), columns=['Words', 'Frequency'])\n",
    "df.sort_values(by=['Frequency'], ascending = False, inplace = True)\n",
    "df.reset_index(inplace=True, drop = True)\n",
    "df"
   ]
  },
  {
   "cell_type": "code",
   "execution_count": 25,
   "metadata": {},
   "outputs": [],
   "source": [
    "#Create csv\n",
    "df.to_csv('words.csv', index = False)"
   ]
  },
  {
   "cell_type": "code",
   "execution_count": 27,
   "metadata": {},
   "outputs": [
    {
     "name": "stdout",
     "output_type": "stream",
     "text": [
      "#foodbeast : 10\n",
      "#dilsefoodie : 9\n",
      "#sanjyotkeer : 6\n",
      "#yourfoodlab : 6\n",
      "#recipeoftheday : 5\n",
      "#foodstagram : 4\n",
      "#foodphotography : 4\n",
      "#foodporn : 4\n",
      "#recipevideo : 4\n",
      "#discoveryplus : 3\n"
     ]
    }
   ],
   "source": [
    "for i in range(10):\n",
    "    print(df.iloc[i]['Words'], \":\", df.iloc[i]['Frequency'])"
   ]
  },
  {
   "cell_type": "code",
   "execution_count": 28,
   "metadata": {},
   "outputs": [
    {
     "data": {
      "image/png": "[encoded data removed]",
      "text/plain": [
       "<Figure size 432x288 with 1 Axes>"
      ]
     },
     "metadata": {},
     "output_type": "display_data"
    }
   ],
   "source": [
    "li_words = df['Words'][0:5]\n",
    "li_frequency = df['Frequency'][0:5]\n",
    "li_frequency = np.array(li_frequency)\n",
    "\n",
    "def absolute_value(val):\n",
    "    a  = np.round(val/100*li_frequency.sum())\n",
    "    return int(a)\n",
    "\n",
    "plt.pie(li_frequency, labels=li_words, autopct=absolute_value)\n",
    "plt.show()"
   ]
  },
  {
   "cell_type": "code",
   "execution_count": 29,
   "metadata": {},
   "outputs": [],
   "source": [
    "def getAvgLikes(li_usernames):\n",
    "    li_ans = []\n",
    "    for ele in li_usernames:\n",
    "        li_likes = []\n",
    "        print(ele[0])\n",
    "        searchAndOpenProfile(ele[0])\n",
    "        time.sleep(1)\n",
    "        openFirstPost()\n",
    "        time.sleep(1)\n",
    "        i=0\n",
    "        while i < 10:\n",
    "            try:\n",
    "                likes = WebDriverWait(driver, 5).until(\n",
    "                    EC.presence_of_element_located((By.CLASS_NAME, 'vcOH2'))\n",
    "                )\n",
    "                likes.click()\n",
    "                numLikes = WebDriverWait(driver, 5).until(\n",
    "                    EC.presence_of_element_located((By.CLASS_NAME, 'vJRqr'))\n",
    "                )\n",
    "                likes = numLikes.text\n",
    "                print(likes)\n",
    "#                 likes = likes.split()[0]\n",
    "#                 likes = int(likes)\n",
    "                li_likes.append(likes)\n",
    "                driver.find_element_by_class_name('QhbhU').click()\n",
    "            except:\n",
    "                pass\n",
    "            try:\n",
    "                likes = WebDriverWait(driver,5).until(\n",
    "                    EC.presence_of_element_located((By.CLASS_NAME, 'zV_Nj'))\n",
    "                )\n",
    "                likes = likes.text\n",
    "                print(likes)\n",
    "#                 likes = likes.split()[0]\n",
    "#                 likes = int(likes)\n",
    "\n",
    "                li_likes.append(likes)\n",
    "                \n",
    "            except:\n",
    "                pass\n",
    "            nextPost()\n",
    "            i += 1\n",
    "        li_ans.append([ele[0], li_likes])\n",
    "        print()\n",
    "        btnExit = driver.find_elements_by_xpath('//button[contains(@class, \"wpO6b\")]')[-1]\n",
    "        btnExit.click()\n",
    "    return li_ans"
   ]
  },
  {
   "cell_type": "code",
   "execution_count": 30,
   "metadata": {},
   "outputs": [
    {
     "name": "stdout",
     "output_type": "stream",
     "text": [
      "foodnetwork\n",
      "2,676 likes\n",
      "41,770 likes\n",
      "6,290 likes\n",
      "3,622 likes\n",
      "6,677 likes\n",
      "2,027 likes\n",
      "20,176 likes\n",
      "13,821 likes\n",
      "4,241 likes\n",
      "48,801 likes\n",
      "\n",
      "foodys\n",
      "1,308 likes\n",
      "30,347 likes\n",
      "25,645 likes\n",
      "38,254 likes\n",
      "13,377 likes\n",
      "29,514 likes\n",
      "50,663 likes\n",
      "21,849 likes\n",
      "25,838 likes\n",
      "18,212 likes\n",
      "\n",
      "yourfoodlab\n",
      "14,870 likes\n",
      "19,018 likes\n",
      "39,085 likes\n",
      "30,188 likes\n",
      "27,525 likes\n",
      "20,161 likes\n",
      "20,890 likes\n",
      "18,215 likes\n",
      "146,788 likes\n",
      "32,583 likes\n",
      "\n",
      "foodbeast\n",
      "5,804 likes\n",
      "17,407 likes\n",
      "9,951 likes\n",
      "12,340 likes\n",
      "12,290 likes\n",
      "7,592 likes\n",
      "4,782 likes\n",
      "6,750 likes\n",
      "7,913 likes\n",
      "14,752 likes\n",
      "\n",
      "dilsefoodie\n",
      "2,447 likes\n",
      "2,033 likes\n",
      "3,301 likes\n",
      "3,760 likes\n",
      "14,813 likes\n",
      "16,541 likes\n",
      "18,435 likes\n",
      "19,630 likes\n",
      "16,329 likes\n",
      "13,445 likes\n",
      "\n"
     ]
    }
   ],
   "source": [
    "li_ans = getAvgLikes(li_topFollowers)"
   ]
  },
  {
   "cell_type": "code",
   "execution_count": 37,
   "metadata": {},
   "outputs": [
    {
     "name": "stdout",
     "output_type": "stream",
     "text": [
      "[['foodnetwork', 15010.1], ['foodys', 25500.7], ['yourfoodlab', 36932.3], ['foodbeast', 9958.1], ['dilsefoodie', 11073.4]]\n"
     ]
    }
   ],
   "source": [
    "li_numLikes = []\n",
    "for ele in li_ans:\n",
    "    add = 0\n",
    "    for num in ele[1]:\n",
    "        num = num.split()\n",
    "        num = num[0].replace(',','')\n",
    "        num = int(num)\n",
    "        add += num\n",
    "    small_ele = [ele[0], add/len(ele[1])]\n",
    "    li_numLikes.append(small_ele)\n",
    "print(li_numLikes)\n",
    "        \n",
    "    "
   ]
  },
  {
   "cell_type": "code",
   "execution_count": 38,
   "metadata": {},
   "outputs": [
    {
     "name": "stdout",
     "output_type": "stream",
     "text": [
      "['foodnetwork', 'foodys', 'yourfoodlab', 'foodbeast', 'dilsefoodie']\n",
      "[11166520  8761956  1617711  1439801   747591]\n",
      "[15010.1 25500.7 36932.3  9958.1 11073.4]\n",
      "[743.93375127 343.59668558  43.80206486 144.58591498  67.51232684]\n"
     ]
    }
   ],
   "source": [
    "import numpy as np\n",
    "li_name = []\n",
    "li_followers = []\n",
    "li_likes = []\n",
    "for i in range(len(li_topFollowers)):\n",
    "    li_name.append(li_topFollowers[i][0])\n",
    "    li_followers.append(li_topFollowers[i][1])\n",
    "    li_likes.append(li_numLikes[i][1])\n",
    "    \n",
    "li_followers = np.array(li_followers)\n",
    "li_likes = np.array(li_likes)\n",
    "li_ratio = li_followers/li_likes\n",
    "print(li_names)\n",
    "print(li_followers)\n",
    "print(li_likes)\n",
    "print(li_ratio)\n"
   ]
  },
  {
   "cell_type": "code",
   "execution_count": 39,
   "metadata": {},
   "outputs": [
    {
     "data": {
      "image/png": "[encoded data removed]",
      "text/plain": [
       "<Figure size 432x288 with 1 Axes>"
      ]
     },
     "metadata": {
      "needs_background": "light"
     },
     "output_type": "display_data"
    }
   ],
   "source": [
    "plt.bar(li_name, li_ratio)\n",
    "plt.title(\"Follower/Like ratio for top food handles\")\n",
    "plt.xlabel(\"Top Handles\")\n",
    "plt.ylabel(\"Followers/Like\")\n",
    "plt.show()"
   ]
  },
  {
   "cell_type": "code",
   "execution_count": null,
   "metadata": {},
   "outputs": [],
   "source": []
  }
 ],
 "metadata": {
  "kernelspec": {
   "display_name": "Python 3",
   "language": "python",
   "name": "python3"
  },
  "language_info": {
   "codemirror_mode": {
    "name": "ipython",
    "version": 3
   },
   "file_extension": ".py",
   "mimetype": "text/x-python",
   "name": "python",
   "nbconvert_exporter": "python",
   "pygments_lexer": "ipython3",
   "version": "3.8.5"
  }
 },
 "nbformat": 4,
 "nbformat_minor": 4
}
